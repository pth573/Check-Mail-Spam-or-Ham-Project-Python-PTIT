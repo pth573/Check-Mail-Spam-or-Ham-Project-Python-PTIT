{
 "cells": [
  {
   "cell_type": "code",
   "execution_count": 4,
   "metadata": {},
   "outputs": [],
   "source": [
    "import numpy as np\n",
    "import pandas as pd\n",
    "from sklearn.model_selection import train_test_split\n",
    "from sklearn.feature_extraction.text import TfidfVectorizer\n",
    "from sklearn.linear_model import LogisticRegression\n",
    "from sklearn.neighbors import KNeighborsClassifier\n",
    "from sklearn.metrics import accuracy_score\n",
    "from sklearn.naive_bayes import MultinomialNB\n",
    "from sklearn import svm"
   ]
  },
  {
   "cell_type": "code",
   "execution_count": 5,
   "metadata": {},
   "outputs": [
    {
     "name": "stdout",
     "output_type": "stream",
     "text": [
      "11398\n"
     ]
    }
   ],
   "source": [
    "raw_mail_data = pd.read_csv('mail_data.csv')\n",
    "mail_data = raw_mail_data.where((pd.notnull(raw_mail_data)),'')\n",
    "mail_data.loc[mail_data['Category'] == 'spam', 'Category'] = 0\n",
    "mail_data.loc[mail_data['Category'] == 'ham', 'Category'] = 1\n",
    "X = mail_data['Message']\n",
    "Y = mail_data['Category']\n",
    "print(len(X))"
   ]
  },
  {
   "cell_type": "code",
   "execution_count": 6,
   "metadata": {},
   "outputs": [],
   "source": [
    "X_train, X_test, Y_train, Y_test = train_test_split(X, Y, test_size=0.2, random_state=3)"
   ]
  },
  {
   "cell_type": "code",
   "execution_count": 7,
   "metadata": {},
   "outputs": [],
   "source": [
    "feature_extraction = TfidfVectorizer(min_df = 1, stop_words='english', lowercase=True)\n",
    "X_train_features = feature_extraction.fit_transform(X_train)\n",
    "X_test_features = feature_extraction.transform(X_test)\n",
    "Y_train = Y_train.astype('str')\n",
    "Y_test = Y_test.astype('str')"
   ]
  },
  {
   "cell_type": "code",
   "execution_count": 8,
   "metadata": {},
   "outputs": [],
   "source": [
    "model1 = LogisticRegression()\n",
    "model1.fit(X_train_features, Y_train)\n",
    "prediction_on_training_data_LgR = model1.predict(X_train_features)\n",
    "accuracy_on_training_data_LgR = accuracy_score(Y_train, prediction_on_training_data_LgR)\n",
    "prediction_on_test_data_LgR = model1.predict(X_test_features)\n",
    "accuracy_on_test_data_LgR = accuracy_score(Y_test, prediction_on_test_data_LgR)"
   ]
  },
  {
   "cell_type": "code",
   "execution_count": 9,
   "metadata": {},
   "outputs": [
    {
     "name": "stdout",
     "output_type": "stream",
     "text": [
      "Accuracy on training data_LgR :  0.9644658916429042\n",
      "Accuracy on test data_LgR :  0.9508771929824561\n"
     ]
    }
   ],
   "source": [
    "print('Accuracy on training data_LgR : ', accuracy_on_training_data_LgR)\n",
    "print('Accuracy on test data_LgR : ', accuracy_on_test_data_LgR)"
   ]
  },
  {
   "cell_type": "code",
   "execution_count": 10,
   "metadata": {},
   "outputs": [],
   "source": [
    "model2 = KNeighborsClassifier()\n",
    "model2.fit(X_train_features, Y_train)\n",
    "prediction_on_training_data_knn = model2.predict(X_train_features)\n",
    "accuracy_on_training_data_knn = accuracy_score(Y_train, prediction_on_training_data_knn)\n",
    "prediction_on_test_data_knn = model2.predict(X_test_features)\n",
    "accuracy_on_test_data_knn = accuracy_score(Y_test, prediction_on_test_data_knn)"
   ]
  },
  {
   "cell_type": "code",
   "execution_count": 11,
   "metadata": {},
   "outputs": [
    {
     "name": "stdout",
     "output_type": "stream",
     "text": [
      "Accuracy on training data_knn :  0.8502961175696425\n",
      "Accuracy on test data_knn :  0.849561403508772\n"
     ]
    }
   ],
   "source": [
    "print('Accuracy on training data_knn : ', accuracy_on_training_data_knn)\n",
    "print('Accuracy on test data_knn : ', accuracy_on_test_data_knn)"
   ]
  },
  {
   "cell_type": "code",
   "execution_count": 12,
   "metadata": {},
   "outputs": [],
   "source": [
    "model3 = MultinomialNB()\n",
    "model3.fit(X_train_features, Y_train)\n",
    "prediction_on_training_data_nb = model3.predict(X_train_features)\n",
    "accuracy_on_training_data_nb = accuracy_score(Y_train, prediction_on_training_data_nb)\n",
    "prediction_on_test_data_nb = model3.predict(X_test_features)\n",
    "accuracy_on_test_data_nb = accuracy_score(Y_test, prediction_on_test_data_nb)"
   ]
  },
  {
   "cell_type": "code",
   "execution_count": 13,
   "metadata": {},
   "outputs": [
    {
     "name": "stdout",
     "output_type": "stream",
     "text": [
      "Accuracy on training data_nb :  0.9520728229874973\n",
      "Accuracy on test data_nb :  0.9236842105263158\n"
     ]
    }
   ],
   "source": [
    "print('Accuracy on training data_nb : ', accuracy_on_training_data_nb)\n",
    "print('Accuracy on test data_nb : ', accuracy_on_test_data_nb)"
   ]
  },
  {
   "cell_type": "code",
   "execution_count": 14,
   "metadata": {},
   "outputs": [],
   "source": [
    "model4 = svm.SVC()\n",
    "model4.fit(X_train_features, Y_train)\n",
    "prediction_on_training_data_svm = model4.predict(X_train_features)\n",
    "accuracy_on_training_data_svm = accuracy_score(Y_train, prediction_on_training_data_svm)\n",
    "prediction_on_test_data_svm = model4.predict(X_test_features)\n",
    "accuracy_on_test_data_svm = accuracy_score(Y_test, prediction_on_test_data_svm)"
   ]
  },
  {
   "cell_type": "code",
   "execution_count": 15,
   "metadata": {},
   "outputs": [
    {
     "name": "stdout",
     "output_type": "stream",
     "text": [
      "Accuracy on training data_svm :  0.9992322877824085\n",
      "Accuracy on test data_svm :  0.9679824561403508\n"
     ]
    }
   ],
   "source": [
    "print('Accuracy on training data_svm : ', accuracy_on_training_data_svm)\n",
    "print('Accuracy on test data_svm : ', accuracy_on_test_data_svm)"
   ]
  }
 ],
 "metadata": {
  "kernelspec": {
   "display_name": "base",
   "language": "python",
   "name": "python3"
  },
  "language_info": {
   "codemirror_mode": {
    "name": "ipython",
    "version": 3
   },
   "file_extension": ".py",
   "mimetype": "text/x-python",
   "name": "python",
   "nbconvert_exporter": "python",
   "pygments_lexer": "ipython3",
   "version": "3.9.12"
  },
  "orig_nbformat": 4
 },
 "nbformat": 4,
 "nbformat_minor": 2
}
